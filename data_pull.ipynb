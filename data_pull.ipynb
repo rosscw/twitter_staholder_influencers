{
 "cells": [
  {
   "cell_type": "code",
   "execution_count": null,
   "id": "ae539b6e-8c9c-4ab9-a3a8-02d143cee708",
   "metadata": {},
   "outputs": [],
   "source": [
    "# Set up\n",
    "pip install tweepy\n",
    "import tweepy\n",
    "from auth_tokens import * \n",
    "\n",
    "# Authenticate to Twitter\n",
    "auth = tweepy.OAuthHandler(consumer_key, consumer_secret)\n",
    "\n",
    "# Define authorised client call\n",
    "client = tweepy.Client(bearer_token = bearer_token, consumer_key = consumer_key, consumer_secret = consumer_secret)\n",
    "\n",
    "# Extract handles for each account being followed by stk_id\n",
    "stk_id = 515600557 #tara_flores as test case\n",
    "for id in tweepy.Paginator(client.get_users_following, id = stk_id, max_results = 100).flatten(limit = 5) :\n",
    "                           print(id)\n"
   ]
  },
  {
   "cell_type": "markdown",
   "id": "85c9d12e-37d1-409e-a7d1-7de250ee473b",
   "metadata": {},
   "source": [
    "# Set up"
   ]
  },
  {
   "cell_type": "code",
   "execution_count": 3,
   "id": "b49bef54-0fcf-40e4-a230-b31d6773437f",
   "metadata": {},
   "outputs": [
    {
     "name": "stdout",
     "output_type": "stream",
     "text": [
      "Collecting tweepy\n",
      "  Downloading tweepy-4.4.0-py2.py3-none-any.whl (65 kB)\n",
      "Requirement already satisfied: requests<3,>=2.11.1 in c:\\users\\44770\\anaconda3\\lib\\site-packages (from tweepy) (2.26.0)\n",
      "Collecting requests-oauthlib<2,>=1.0.0\n",
      "  Downloading requests_oauthlib-1.3.0-py2.py3-none-any.whl (23 kB)\n",
      "Requirement already satisfied: charset-normalizer~=2.0.0 in c:\\users\\44770\\anaconda3\\lib\\site-packages (from requests<3,>=2.11.1->tweepy) (2.0.4)\n",
      "Requirement already satisfied: certifi>=2017.4.17 in c:\\users\\44770\\anaconda3\\lib\\site-packages (from requests<3,>=2.11.1->tweepy) (2021.10.8)\n",
      "Requirement already satisfied: idna<4,>=2.5 in c:\\users\\44770\\anaconda3\\lib\\site-packages (from requests<3,>=2.11.1->tweepy) (3.2)\n",
      "Requirement already satisfied: urllib3<1.27,>=1.21.1 in c:\\users\\44770\\anaconda3\\lib\\site-packages (from requests<3,>=2.11.1->tweepy) (1.26.7)\n",
      "Collecting oauthlib>=3.0.0\n",
      "  Downloading oauthlib-3.1.1-py2.py3-none-any.whl (146 kB)\n",
      "Installing collected packages: oauthlib, requests-oauthlib, tweepy\n",
      "Successfully installed oauthlib-3.1.1 requests-oauthlib-1.3.0 tweepy-4.4.0\n",
      "Note: you may need to restart the kernel to use updated packages.\n"
     ]
    }
   ],
   "source": [
    "pip install tweepy #conda install doesn't work for some reason. Unsure why"
   ]
  },
  {
   "cell_type": "code",
   "execution_count": 4,
   "id": "8522bf2b-5601-4d2f-a019-03c2186bea42",
   "metadata": {},
   "outputs": [],
   "source": [
    "import tweepy\n",
    "from auth_tokens import *\n",
    "\n",
    "# Authenticate to Twitter\n",
    "auth = tweepy.OAuthHandler(consumer_key, consumer_secret)\n",
    "\n",
    "# Define authorised client call\n",
    "client = tweepy.Client(bearer_token = bearer_token, consumer_key = consumer_key, consumer_secret = consumer_secret)"
   ]
  },
  {
   "cell_type": "code",
   "execution_count": 6,
   "id": "73028be1-cf98-466d-b3ab-4baf52ce4b86",
   "metadata": {},
   "outputs": [
    {
     "name": "stdout",
     "output_type": "stream",
     "text": [
      "AndrRoy\n",
      "DrStephenChan\n",
      "30quotes\n",
      "jc_stubbs\n",
      "N_Waters89\n"
     ]
    }
   ],
   "source": [
    "# Extract handles for each account being followed by stk_id\n",
    "stk_id = 515600557 #tara_flores as test case\n",
    "for id in tweepy.Paginator(client.get_users_following, id = stk_id, max_results = 5).flatten(limit = 5) :\n",
    "                           print(id)"
   ]
  },
  {
   "cell_type": "code",
   "execution_count": 7,
   "id": "c8d40a50-e19a-4c16-b1e4-06c6499c9bee",
   "metadata": {},
   "outputs": [
    {
     "ename": "SyntaxError",
     "evalue": "invalid syntax (Temp/ipykernel_11376/2630282858.py, line 1)",
     "output_type": "error",
     "traceback": [
      "\u001b[1;36m  File \u001b[1;32m\"C:\\Users\\44770\\AppData\\Local\\Temp/ipykernel_11376/2630282858.py\"\u001b[1;36m, line \u001b[1;32m1\u001b[0m\n\u001b[1;33m    git commit\u001b[0m\n\u001b[1;37m        ^\u001b[0m\n\u001b[1;31mSyntaxError\u001b[0m\u001b[1;31m:\u001b[0m invalid syntax\n"
     ]
    }
   ],
   "source": [
    "git commit"
   ]
  }
 ],
 "metadata": {
  "kernelspec": {
   "display_name": "Python 3 (ipykernel)",
   "language": "python",
   "name": "python3"
  },
  "language_info": {
   "codemirror_mode": {
    "name": "ipython",
    "version": 3
   },
   "file_extension": ".py",
   "mimetype": "text/x-python",
   "name": "python",
   "nbconvert_exporter": "python",
   "pygments_lexer": "ipython3",
   "version": "3.9.7"
  }
 },
 "nbformat": 4,
 "nbformat_minor": 5
}
