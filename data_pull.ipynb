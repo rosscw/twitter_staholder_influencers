{
 "cells": [
  {
   "cell_type": "markdown",
   "id": "85c9d12e-37d1-409e-a7d1-7de250ee473b",
   "metadata": {},
   "source": [
    "# Set up"
   ]
  },
  {
   "cell_type": "code",
   "execution_count": 3,
   "id": "b49bef54-0fcf-40e4-a230-b31d6773437f",
   "metadata": {},
   "outputs": [],
   "source": [
    "#pip install tweepy #conda install doesn't work for some reason. Unsure why\n",
    "import pandas as pd"
   ]
  },
  {
   "cell_type": "code",
   "execution_count": 1,
   "id": "8522bf2b-5601-4d2f-a019-03c2186bea42",
   "metadata": {},
   "outputs": [],
   "source": [
    "import tweepy\n",
    "from auth_tokens import *\n",
    "\n",
    "# Authenticate to Twitter\n",
    "auth = tweepy.OAuthHandler(consumer_key, consumer_secret)\n",
    "\n",
    "# Define authorised client call\n",
    "client = tweepy.Client(bearer_token = bearer_token, consumer_key = consumer_key, consumer_secret = consumer_secret)"
   ]
  },
  {
   "cell_type": "markdown",
   "id": "2004f19c-cc2d-4e29-abb0-77d7bd163a01",
   "metadata": {},
   "source": [
    "# Extracting"
   ]
  },
  {
   "cell_type": "code",
   "execution_count": 9,
   "id": "73028be1-cf98-466d-b3ab-4baf52ce4b86",
   "metadata": {},
   "outputs": [
    {
     "name": "stdout",
     "output_type": "stream",
     "text": [
      "_NinaFoster\n"
     ]
    }
   ],
   "source": [
    "# Extract handles for each account being followed by stk_id\n",
    "stk_id = 1472538021392228361 #tara_flores as test case\n",
    "for id in tweepy.Paginator(client.get_users_following, id = stk_id).flatten(limit = 1) :\n",
    "                           print(id)"
   ]
  },
  {
   "cell_type": "markdown",
   "id": "3b925aa4-7d02-4cdb-bb44-7e4a0abd8b6e",
   "metadata": {},
   "source": [
    "\n",
    "## How to proceed\n",
    "**Create function to extract all influencers for a given stakeholder**\n",
    "1. Find number of influencers stakeholder is following\n",
    "2. %% divide N# they are following by 880\n",
    "3. Every 15 mins extract 880 followers\n",
    "4. Repeat this the number of times needed\n",
    "5. Extract the remainder\n",
    "**Return the output for a single stakeholder:** rrite this into a panda with the stakeholder in column A and the influencer in col B\n",
    "\n",
    "Iterate this for all stakeholders to create whole dataset\n",
    "\n",
    "Rearrange with pandas"
   ]
  },
  {
   "cell_type": "markdown",
   "id": "0822e968-caac-4f77-a0c0-ef251d61928c",
   "metadata": {},
   "source": [
    "## Reading in the stakeholder list"
   ]
  },
  {
   "cell_type": "code",
   "execution_count": 16,
   "id": "f2785db2-1373-40fe-befa-b492e7e22074",
   "metadata": {},
   "outputs": [],
   "source": [
    "stk_id_input = pd.read_csv(r'C:\\Users\\44770\\Documents\\GitHub\\twitter_stakeholder_influencers\\Data\\Twitter_analysis_input.csv')"
   ]
  },
  {
   "cell_type": "code",
   "execution_count": 20,
   "id": "b4ac7945-742d-44db-9702-d1e40ca2e848",
   "metadata": {},
   "outputs": [
    {
     "name": "stdout",
     "output_type": "stream",
     "text": [
      "0    1472538021392228361\n",
      "1    1088465015190028293\n",
      "Name: twitter_id, dtype: int64\n"
     ]
    }
   ],
   "source": [
    "stk_ids = stk_id_input[\"twitter_id\"]"
   ]
  },
  {
   "cell_type": "code",
   "execution_count": 21,
   "id": "5a20ef10-0b22-44a2-9020-2f6e30b91b60",
   "metadata": {},
   "outputs": [
    {
     "name": "stdout",
     "output_type": "stream",
     "text": [
      "0    1472538021392228361\n",
      "1    1088465015190028293\n",
      "Name: twitter_id, dtype: int64\n"
     ]
    }
   ],
   "source": [
    "print(stk_ids)"
   ]
  },
  {
   "cell_type": "code",
   "execution_count": 17,
   "id": "7e3df577-612a-43ae-9519-9d189d5b82d7",
   "metadata": {},
   "outputs": [
    {
     "name": "stdout",
     "output_type": "stream",
     "text": [
      "  stakeholder           twitter_id twitter_handle\n",
      "0          Me  1472538021392228361        @DcclDS\n",
      "1        Nina  1088465015190028293   @_NinaFoster\n"
     ]
    }
   ],
   "source": [
    "print(stk_id_input)"
   ]
  }
 ],
 "metadata": {
  "kernelspec": {
   "display_name": "Python 3 (ipykernel)",
   "language": "python",
   "name": "python3"
  },
  "language_info": {
   "codemirror_mode": {
    "name": "ipython",
    "version": 3
   },
   "file_extension": ".py",
   "mimetype": "text/x-python",
   "name": "python",
   "nbconvert_exporter": "python",
   "pygments_lexer": "ipython3",
   "version": "3.9.7"
  }
 },
 "nbformat": 4,
 "nbformat_minor": 5
}
